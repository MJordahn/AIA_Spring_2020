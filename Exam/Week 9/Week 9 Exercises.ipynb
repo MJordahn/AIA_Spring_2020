{
 "cells": [
  {
   "cell_type": "markdown",
   "metadata": {},
   "source": [
    "![Caption](images/Q10.png)"
   ]
  },
  {
   "cell_type": "markdown",
   "metadata": {},
   "source": [
    "### MNIST Training Notes\n",
    "\n",
    "* Completely naïve on 1000 training images and 100 valid images we obtain accuracies in the 80% on the validation set at the end of 10 epochs.\n",
    "* We then implement batches from which we see more volatile loss, but faster convergence due to better memory utilization (at least in theory on GPU)\n",
    "* We also will not get caught in local minima since the batches make the gradient descent stochastic (due to shuffling of batches after each epoch)\n",
    "* We implemented adaptive learning rate as described in the article A Stochastic Approximation Method by Monro. This is where $\\eta_i = \\eta_{constant}\\frac{1}{i}$ where $i$ is the epoch number.\n",
    "* We use Glorot initialization for our weights (which we found as being state of the art).\n",
    "* With these additional measures we get much better stability in the convergence of the training such that the range of validation scores lie between $88\\%$ and $91\\%$. Here we saw a lot of overfitting if we increased the layers of the model so we now made Dropout to regularize the model.\n",
    "* Now we obtained an accuracy of $93.6\\%$ accuracy!"
   ]
  },
  {
   "cell_type": "code",
   "execution_count": 1,
   "metadata": {},
   "outputs": [],
   "source": [
    "import numpy as np\n",
    "import matplotlib.pyplot as plt\n",
    "\n",
    "#%%\n",
    "f = open('train-images-idx3-ubyte', 'r')\n",
    "a = np.fromfile(f, dtype='>i4', count=4)\n",
    "images = np.fromfile(f, dtype='u1')\n",
    "\n",
    "im = np.reshape(images[0:(28*28)],(28,28))\n",
    "fig, ax = plt.subplots(1,1)\n",
    "ax.imshow(im)\n",
    "plt.title('MNST')\n",
    "fig.show\n",
    "#%%\n",
    "f = open('train-labels-idx1-ubyte', 'r')\n",
    "t = np.fromfile(f, count = 2, dtype='>i4')\n",
    "labels = np.fromfile(f, dtype='u1')\n",
    "images = images.reshape((int(len(images)/(28*28)), 28*28))\n",
    "images = images.astype(float)\n",
    "images = images/255\n",
    "labels = labels.reshape((len(labels), 1))\n",
    "labels = labels.astype(int)"
   ]
  },
  {
   "cell_type": "code",
   "execution_count": 2,
   "metadata": {},
   "outputs": [],
   "source": [
    "from scipy.special import softmax\n",
    "import math\n",
    "def init_weights_bias(neurons_in_layers):\n",
    "    W = []\n",
    "    b = []\n",
    "    for i in range(len(neurons_in_layers)-1):\n",
    "        std = math.sqrt(2)*math.sqrt(2.0/(float(neurons_in_layers[i])+float(neurons_in_layers[i+1])))\n",
    "        W.append(np.random.normal(loc=0.0, scale=std, size=[neurons_in_layers[i],neurons_in_layers[i+1]])) \n",
    "        b.append(np.random.normal(loc=0.0, scale=std, size=[1, neurons_in_layers[i+1]])) \n",
    "    return (W, b)\n",
    "def forward_pass(NN, x):\n",
    "    #x: The input of the network             (np.array of shape: (batch_size, number_of_features))\n",
    "    #NN: The initialized neural network      (tuple of list of matrices)\n",
    "    z = [x]\n",
    "    a = []\n",
    "    for l in range(len(NN[0])):\n",
    "        a.append(np.einsum('bi, io -> bo', z[l], NN[0][l]) + NN[1][l])  # The affine transform x*w+b\n",
    "        if l+1 != len(NN[0]):\n",
    "            z.append(np.maximum(a[l], 0))\n",
    "        else:\n",
    "            z.append(softmax(a[l], axis=1))\n",
    "    return z, a\n",
    "\n",
    "def backward_pass(x, t, z, a, NN):\n",
    "    y = z[-1] #Apply softmax to z to get probability of each class\n",
    "    delta = y-t # Delta for the last layer\n",
    "    d_a = []\n",
    "    for i in range(len(a)):\n",
    "        d_a.append(z[i])\n",
    "    g_w = [] \n",
    "    g_b = []\n",
    "    g_b.append(np.mean(delta, axis=0))\n",
    "    g_w.append(np.mean(np.einsum('bo, bi -> bio', delta, z[-2]), axis=0))\n",
    "    \n",
    "    for l in range(1, len(NN[0])):\n",
    "        d_C_d_z = np.einsum('bo, io -> bi', delta, NN[0][-l])  # Derivative of the Cost with respect to an activated layer d_C_d_z. \n",
    "                                                               #  delta shape: as above; weights shape: (i, o)\n",
    "                                                               # Delta: d_C_d_z (element-wise mult) derivative of the activation layers\n",
    "                                                               #  delta shape: as above; d_z shape: (b, i)  \n",
    "        delta = np.einsum('bi, bi -> bi', d_C_d_z, d_a[-l])     # <- Insert correct expression                                      \n",
    "        g_b.append(np.mean(delta, axis=0)) \n",
    "        g_w.append(np.mean(np.einsum('bo, bi -> bio', delta, z[-l-2]), axis=0)) # Derivative of cost with respect to weights in layer l:\n",
    "                                                                           # delta shape: as above; activations of l-1 shape: (b, i)\n",
    "    return g_b[::-1], g_w[::-1]\n",
    "\n",
    "def normalize_data(data):\n",
    "    print(data[0])\n",
    "    train_mu = np.mean(data, axis=0)\n",
    "    train_sigma = np.std(data, axis=0)\n",
    "    data = data-train_mu/train_sigma\n",
    "    return data\n",
    "    \n",
    "def cross_entropy_loss(target, y, derivative=False):\n",
    "    \"\"\"\n",
    "    Computes the cross entropy loss function and its derivative \n",
    "    Input:\n",
    "    target:      target (expected output)          (np.array)\n",
    "    y:      output from forward pass (np.array, must be the same shape as t)\n",
    "    derivative: whether to return the derivative with respect to y or return the loss (boolean)\n",
    "    \"\"\"\n",
    "    if derivative:\n",
    "        return (y-t)\n",
    "    else:\n",
    "        return -target*np.log(y) "
   ]
  },
  {
   "cell_type": "code",
   "execution_count": 15,
   "metadata": {},
   "outputs": [
    {
     "name": "stdout",
     "output_type": "stream",
     "text": [
      "Accuracy obtained on test set: 90.0\n"
     ]
    },
    {
     "data": {
      "text/plain": [
       "[<matplotlib.lines.Line2D at 0x123b5b1d0>]"
      ]
     },
     "execution_count": 15,
     "metadata": {},
     "output_type": "execute_result"
    },
    {
     "data": {
      "image/png": "[encoded data removed]",
      "text/plain": [
       "<Figure size 432x288 with 2 Axes>"
      ]
     },
     "metadata": {
      "needs_background": "light"
     },
     "output_type": "display_data"
    }
   ],
   "source": [
    "def make_target_array(data):\n",
    "    new_data = []\n",
    "    for label in data:\n",
    "        labels = []\n",
    "        for i in range(10):\n",
    "            if i == label:\n",
    "                labels.append(1)\n",
    "            else:\n",
    "                labels.append(0)\n",
    "        labels = np.array(labels)\n",
    "        new_data.append(labels)\n",
    "    return np.array(new_data)\n",
    "\n",
    "X = images[:1000]\n",
    "T = make_target_array(labels[:1000])\n",
    "layers = [28*28, 32, 10]\n",
    "eta = 0.1\n",
    "NN = init_weights_bias(layers)\n",
    "test_x = images[-100:]\n",
    "test_labels = make_target_array(labels[-100:])\n",
    "train_loss = []\n",
    "valid_loss = []\n",
    "for i in range(100):\n",
    "    z, a = forward_pass(NN, X)\n",
    "    g_b, g_w = backward_pass(X, T, z, a, NN)\n",
    "    train_loss.append(np.mean(cross_entropy_loss(T, z[-1])))\n",
    "    for l in range(len(g_b)):\n",
    "            NN[0][l] -= g_w[l]*eta\n",
    "            NN[1][l] -= g_b[l]*eta\n",
    "    z, a = forward_pass(NN, test_x)\n",
    "    valid_loss.append(np.mean(cross_entropy_loss(test_labels, z[-1])))\n",
    "fig, (ax1, ax2) = plt.subplots(1, 2)\n",
    "\n",
    "ax1.plot(train_loss, color = \"blue\")\n",
    "ax1.plot(valid_loss, color = \"orange\")\n",
    "\n",
    "correct = 0\n",
    "for pair in zip(z[-1], test_labels):\n",
    "    if np.argmax(pair[0]) == np.argmax(pair[1]):\n",
    "        correct += 1\n",
    " \n",
    "print(\"Accuracy obtained on test set: \" + str(correct/len(test_labels)*100))\n"
   ]
  },
  {
   "cell_type": "code",
   "execution_count": 100,
   "metadata": {},
   "outputs": [
    {
     "name": "stdout",
     "output_type": "stream",
     "text": [
      "0.04250198974190206\n",
      "0.032864708698583635\n",
      "0.029112076199352764\n",
      "0.026937841383563504\n",
      "0.026609434638331885\n",
      "0.02585729386271949\n",
      "0.025261435530605666\n",
      "0.025585750768945873\n",
      "0.02575461986924724\n",
      "0.02470344282459721\n",
      "0.0259960323233333\n",
      "0.024159341037303758\n",
      "0.024709058686309397\n",
      "0.024343748554570836\n",
      "0.02434142726281579\n",
      "0.024422239989250902\n",
      "0.024144217607182605\n",
      "0.023845298869173193\n",
      "0.02401387655458133\n",
      "0.0246298367695548\n",
      "Accuracy obtained on test set: 93.60000000000001\n"
     ]
    },
    {
     "data": {
      "image/png": "[encoded data removed]",
      "text/plain": [
       "<Figure size 1080x360 with 2 Axes>"
      ]
     },
     "metadata": {
      "needs_background": "light"
     },
     "output_type": "display_data"
    }
   ],
   "source": [
    "import random\n",
    "import copy\n",
    "def make_target_array(data):\n",
    "    new_data = []\n",
    "    for label in data:\n",
    "        labels = []\n",
    "        for i in range(10):\n",
    "            if i == label:\n",
    "                labels.append(1)\n",
    "            else:\n",
    "                labels.append(0)\n",
    "        labels = np.array(labels)\n",
    "        new_data.append(labels)\n",
    "    return np.array(new_data)\n",
    "def dropout(layer_shape, dropout_rate):\n",
    "    weights_shape = layer_shape[1]\n",
    "    dropout_weights = np.random.binomial(1, dropout_rate, weights_shape)\n",
    "    train_weights = np.ones(weights_shape)-dropout_weights\n",
    "    mat_dropout = np.diag(dropout_weights)\n",
    "    mat_train = np.diag(train_weights)\n",
    "    return mat_dropout, mat_train\n",
    "def forward_pass_test(NN, x, dropout_rate):\n",
    "    #x: The input of the network             (np.array of shape: (batch_size, number_of_features))\n",
    "    #NN: The initialized neural network      (tuple of list of matrices)\n",
    "    z = [x]\n",
    "    a = []\n",
    "    for l in range(len(NN[0])):\n",
    "        if l == 0:\n",
    "            a.append((np.einsum('bi, io -> bo', z[l], NN[0][l]) + NN[1][l])*(1-dropout_rate))  # The affine transform x*w+b\n",
    "        else:\n",
    "            a.append(np.einsum('bi, io -> bo', z[l], NN[0][l]) + NN[1][l])  # The affine transform x*w+b\n",
    "        if l+1 != len(NN[0]):\n",
    "            z.append(np.maximum(a[l], 0))\n",
    "        else:\n",
    "            z.append(softmax(a[l], axis=1))\n",
    "    return z, a\n",
    "im_to_include = 5000\n",
    "X = images[:im_to_include]\n",
    "T = make_target_array(labels[:im_to_include])\n",
    "layers = [28*28, 1024, 10]\n",
    "eta_start = 0.5\n",
    "NN = init_weights_bias(layers)\n",
    "test_x = images[-1000:]\n",
    "test_labels = make_target_array(labels[-1000:])\n",
    "train_loss = []\n",
    "valid_loss = []\n",
    "etas = []\n",
    "batch_size = 100\n",
    "dropout_rate = 0.5\n",
    "batches_per_epoch = int(im_to_include/batch_size)\n",
    "epochs = 20\n",
    "for i in range(epochs):\n",
    "    eta = eta_start*(1/(i+1))\n",
    "    etas.append(eta)\n",
    "    for i in range(batches_per_epoch):\n",
    "        batch_X = X[i*batch_size:(i+1)*batch_size]\n",
    "        batch_T = T[i*batch_size:(i+1)*batch_size]\n",
    "        NN_old = NN[0][0]\n",
    "        mat_dropout, mat_train = dropout(NN[0][0].shape, dropout_rate)\n",
    "        NN[0][0] = np.einsum('bi, ii -> bi', NN[0][0], mat_train)\n",
    "        z, a = forward_pass(NN, batch_X)\n",
    "        g_b, g_w = backward_pass(batch_X, batch_T, z, a, NN)\n",
    "        train_loss.append(np.mean(cross_entropy_loss(batch_T, z[-1])))\n",
    "        for l in range(len(g_b)):\n",
    "                NN[0][l] -= g_w[l]*eta\n",
    "                NN[1][l] -= g_b[l]*eta\n",
    "        NN[0][0] = np.einsum('bi, ii -> bi', NN[0][0], mat_train) + np.einsum('bi, ii -> bi', NN_old, mat_dropout)\n",
    "        z, a = forward_pass_test(NN, test_x, dropout_rate)\n",
    "        valid_loss_batch = np.mean(cross_entropy_loss(test_labels, z[-1]))\n",
    "        valid_loss.append(valid_loss_batch)\n",
    "    zipped_data = list(zip(X,T))\n",
    "\n",
    "    random.shuffle(zipped_data)\n",
    "    X = np.array([ sample[0] for sample in zipped_data ])\n",
    "    T = np.array([ sample[1] for sample in zipped_data ])\n",
    "    print(valid_loss_batch)\n",
    "fig, (ax1, ax2) = plt.subplots(1, 2)\n",
    "fig.set_size_inches((15,5))\n",
    "ax1.plot(train_loss, color = \"blue\")\n",
    "ax1.plot(valid_loss, color = \"orange\")\n",
    "ax1.set_title(\"Validation and train loss as a function of batches\")\n",
    "ax2.plot(etas)\n",
    "ax2.set_title(\"Learning rate as function of epochs\")\n",
    "\n",
    "correct = 0\n",
    "for pair in zip(z[-1], test_labels):\n",
    "    if np.argmax(pair[0]) == np.argmax(pair[1]):\n",
    "        correct += 1\n",
    "print(\"Accuracy obtained on test set: \" + str(correct/len(test_labels)*100))\n"
   ]
  },
  {
   "cell_type": "code",
   "execution_count": 77,
   "metadata": {},
   "outputs": [
    {
     "name": "stdout",
     "output_type": "stream",
     "text": [
      "[[1 0]\n",
      " [0 0]]\n",
      "[[10.  1.]\n",
      " [20.  2.]]\n"
     ]
    }
   ],
   "source": [
    "NN = np.array([[1, 1],[2,2]])\n",
    "NN_old = [[10, 10],[20,20]]\n",
    "def dropout(layer_shape, dropout_rate):\n",
    "    weights_shape = layer_shape[1]\n",
    "    dropout_weights = np.random.binomial(1, dropout_rate, weights_shape)\n",
    "    train_weights = np.ones(weights_shape)-dropout_weights\n",
    "    mat_dropout = np.diag(dropout_weights)\n",
    "    mat_train = np.diag(train_weights)\n",
    "    return mat_dropout, mat_train\n",
    "mat_dropout, mat_train = dropout(NN.shape, 0.5)\n",
    "print(mat_dropout)\n",
    "NN = np.einsum('bi, ii -> bi', NN, mat_train) + np.einsum('bi, ii -> bi', NN_old, mat_dropout)\n",
    "print(NN)"
   ]
  },
  {
   "cell_type": "code",
   "execution_count": null,
   "metadata": {},
   "outputs": [],
   "source": []
  }
 ],
 "metadata": {
  "kernelspec": {
   "display_name": "Python 3",
   "language": "python",
   "name": "python3"
  },
  "language_info": {
   "codemirror_mode": {
    "name": "ipython",
    "version": 3
   },
   "file_extension": ".py",
   "mimetype": "text/x-python",
   "name": "python",
   "nbconvert_exporter": "python",
   "pygments_lexer": "ipython3",
   "version": "3.6.4"
  }
 },
 "nbformat": 4,
 "nbformat_minor": 2
}
